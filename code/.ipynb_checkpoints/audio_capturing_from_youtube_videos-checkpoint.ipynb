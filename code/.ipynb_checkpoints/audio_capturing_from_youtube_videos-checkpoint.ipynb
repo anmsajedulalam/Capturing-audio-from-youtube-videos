{
 "cells": [
  {
   "cell_type": "code",
   "execution_count": 15,
   "metadata": {
    "executionInfo": {
     "elapsed": 516,
     "status": "ok",
     "timestamp": 1663768720872,
     "user": {
      "displayName": "A N M Sajedul Alam",
      "userId": "12941997934046277375"
     },
     "user_tz": -360
    },
    "id": "wPJeYbBBFZQV"
   },
   "outputs": [],
   "source": [
    "\n",
    "import numpy as np\n",
    "import pandas as pd"
   ]
  },
  {
   "cell_type": "code",
   "execution_count": 2,
   "metadata": {
    "colab": {
     "base_uri": "https://localhost:8080/"
    },
    "executionInfo": {
     "elapsed": 5337,
     "status": "ok",
     "timestamp": 1663765364197,
     "user": {
      "displayName": "A N M Sajedul Alam",
      "userId": "12941997934046277375"
     },
     "user_tz": -360
    },
    "id": "ua08SZdAHR85",
    "outputId": "7c29324d-907f-4f36-c91b-dbe855db5de8"
   },
   "outputs": [
    {
     "name": "stdout",
     "output_type": "stream",
     "text": [
      "Looking in indexes: https://pypi.org/simple, https://us-python.pkg.dev/colab-wheels/public/simple/\n",
      "Requirement already satisfied: pytube in /usr/local/lib/python3.7/dist-packages (12.1.0)\n"
     ]
    }
   ],
   "source": [
    "!pip install pytube\n",
    "!pip install moviepy\n",
    "!pip3 install imageio==2.4.1\n",
    "!pip install --upgrade imageio-ffmpeg"
   ]
  },
  {
   "cell_type": "code",
   "execution_count": 3,
   "metadata": {
    "executionInfo": {
     "elapsed": 7,
     "status": "ok",
     "timestamp": 1663765367563,
     "user": {
      "displayName": "A N M Sajedul Alam",
      "userId": "12941997934046277375"
     },
     "user_tz": -360
    },
    "id": "reypVrjOHVy4"
   },
   "outputs": [],
   "source": [
    "from pytube import YouTube"
   ]
  },
  {
   "cell_type": "code",
   "execution_count": 4,
   "metadata": {
    "colab": {
     "base_uri": "https://localhost:8080/"
    },
    "executionInfo": {
     "elapsed": 3692,
     "status": "ok",
     "timestamp": 1663765374369,
     "user": {
      "displayName": "A N M Sajedul Alam",
      "userId": "12941997934046277375"
     },
     "user_tz": -360
    },
    "id": "px_sv1jBHXw4",
    "outputId": "e989821f-007b-4555-8ee6-1b6382bcf43a"
   },
   "outputs": [
    {
     "name": "stdout",
     "output_type": "stream",
     "text": [
      "Drive already mounted at /content/drive; to attempt to forcibly remount, call drive.mount(\"/content/drive\", force_remount=True).\n"
     ]
    }
   ],
   "source": [
    "from google.colab import drive\n",
    "drive.mount('/content/drive')"
   ]
  },
  {
   "cell_type": "code",
   "execution_count": 13,
   "metadata": {
    "executionInfo": {
     "elapsed": 434,
     "status": "ok",
     "timestamp": 1663765825336,
     "user": {
      "displayName": "A N M Sajedul Alam",
      "userId": "12941997934046277375"
     },
     "user_tz": -360
    },
    "id": "JQy8WjqMHbFQ"
   },
   "outputs": [],
   "source": [
    "adCatcher = pd.read_csv(\"\") #here put your data directory"
   ]
  },
  {
   "cell_type": "code",
   "execution_count": 14,
   "metadata": {
    "colab": {
     "base_uri": "https://localhost:8080/"
    },
    "executionInfo": {
     "elapsed": 38076,
     "status": "ok",
     "timestamp": 1663765871399,
     "user": {
      "displayName": "A N M Sajedul Alam",
      "userId": "12941997934046277375"
     },
     "user_tz": -360
    },
    "id": "uGDbAJuiIk5H",
    "outputId": "7212197e-786e-440d-8e75-7af2e70ef88c"
   },
   "outputs": [
    {
     "name": "stdout",
     "output_type": "stream",
     "text": [
      "[MoviePy] Writing audio in /content/drive/MyDrive/ad_catcher/audios/Urban Decay All Nighter Makeup Setting Spray feat Normani.mp3\n"
     ]
    },
    {
     "name": "stderr",
     "output_type": "stream",
     "text": [
      "100%|██████████| 334/334 [00:00<00:00, 1283.30it/s]"
     ]
    },
    {
     "name": "stdout",
     "output_type": "stream",
     "text": [
      "[MoviePy] Done.\n"
     ]
    },
    {
     "name": "stderr",
     "output_type": "stream",
     "text": [
      "\n"
     ]
    },
    {
     "name": "stdout",
     "output_type": "stream",
     "text": [
      "[MoviePy] Writing audio in /content/drive/MyDrive/ad_catcher/audios/AEG – FÜR ALLE DIE MEHR ERWARTEN.mp3\n"
     ]
    },
    {
     "name": "stderr",
     "output_type": "stream",
     "text": [
      "100%|██████████| 664/664 [00:00<00:00, 1372.57it/s]"
     ]
    },
    {
     "name": "stdout",
     "output_type": "stream",
     "text": [
      "[MoviePy] Done.\n"
     ]
    },
    {
     "name": "stderr",
     "output_type": "stream",
     "text": [
      "\n"
     ]
    },
    {
     "name": "stdout",
     "output_type": "stream",
     "text": [
      "[MoviePy] Writing audio in /content/drive/MyDrive/ad_catcher/audios/Artificial Intelligence  NEXTGen 2020.mp3\n"
     ]
    },
    {
     "name": "stderr",
     "output_type": "stream",
     "text": [
      "100%|██████████| 3746/3746 [00:02<00:00, 1367.48it/s]"
     ]
    },
    {
     "name": "stdout",
     "output_type": "stream",
     "text": [
      "[MoviePy] Done.\n"
     ]
    },
    {
     "name": "stderr",
     "output_type": "stream",
     "text": [
      "\n"
     ]
    },
    {
     "name": "stdout",
     "output_type": "stream",
     "text": [
      "[MoviePy] Writing audio in /content/drive/MyDrive/ad_catcher/audios/The New S-Class  High-Tech for Maximum Comfort.mp3\n"
     ]
    },
    {
     "name": "stderr",
     "output_type": "stream",
     "text": [
      "100%|██████████| 5777/5777 [00:04<00:00, 1280.63it/s]"
     ]
    },
    {
     "name": "stdout",
     "output_type": "stream",
     "text": [
      "[MoviePy] Done.\n"
     ]
    },
    {
     "name": "stderr",
     "output_type": "stream",
     "text": [
      "\n"
     ]
    },
    {
     "name": "stdout",
     "output_type": "stream",
     "text": [
      "[MoviePy] Writing audio in /content/drive/MyDrive/ad_catcher/audios/SS22 Reebok x Cardi B.mp3\n"
     ]
    },
    {
     "name": "stderr",
     "output_type": "stream",
     "text": [
      "100%|██████████| 793/793 [00:00<00:00, 1383.24it/s]"
     ]
    },
    {
     "name": "stdout",
     "output_type": "stream",
     "text": [
      "[MoviePy] Done.\n"
     ]
    },
    {
     "name": "stderr",
     "output_type": "stream",
     "text": [
      "\n"
     ]
    }
   ],
   "source": [
    "from moviepy.editor import *\n",
    "count=0\n",
    "for i in adCatcher['ad_clips']:\n",
    "    yt = YouTube(i)\n",
    "    t = yt.streams.filter()\n",
    "    path=t[0].download(\"\") #here put your audio directory\n",
    "    mp4_file = path\n",
    "    list_of_ingredients = path.split(\".\")\n",
    "    mp3_file = list_of_ingredients[0]+\".mp3\"\n",
    "    videoclip = VideoFileClip(mp4_file)\n",
    "    audioclip = videoclip.audio\n",
    "    audioclip.write_audiofile(mp3_file)\n",
    "    audioclip.close()\n",
    "    videoclip.close()"
   ]
  },
  {
   "cell_type": "code",
   "execution_count": null,
   "metadata": {
    "id": "1XK7_rpeIxrR"
   },
   "outputs": [],
   "source": []
  }
 ],
 "metadata": {
  "colab": {
   "authorship_tag": "ABX9TyNp3XZoaTMvUlSu9eX+H5iT",
   "provenance": []
  },
  "kernelspec": {
   "display_name": "Python 3 (ipykernel)",
   "language": "python",
   "name": "python3"
  },
  "language_info": {
   "codemirror_mode": {
    "name": "ipython",
    "version": 3
   },
   "file_extension": ".py",
   "mimetype": "text/x-python",
   "name": "python",
   "nbconvert_exporter": "python",
   "pygments_lexer": "ipython3",
   "version": "3.8.3"
  }
 },
 "nbformat": 4,
 "nbformat_minor": 1
}
